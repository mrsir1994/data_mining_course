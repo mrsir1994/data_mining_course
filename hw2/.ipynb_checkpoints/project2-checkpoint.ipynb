{
 "cells": [
  {
   "cell_type": "markdown",
   "metadata": {},
   "source": [
    "## EE219 2018W Project 2 Clustering\n",
    "\n",
    "name: Jianwei Zhang\n",
    "UID: 905036358"
   ]
  },
  {
   "cell_type": "markdown",
   "metadata": {},
   "source": [
    "## problem 1"
   ]
  },
  {
   "cell_type": "code",
   "execution_count": 1,
   "metadata": {},
   "outputs": [
    {
     "name": "stdout",
     "output_type": "stream",
     "text": [
      "The shape of the required TF-IDF matrix = \n",
      "(4732, 20272)\n"
     ]
    }
   ],
   "source": [
    "import sklearn\n",
    "from sklearn.datasets import fetch_20newsgroups\n",
    "from sklearn.feature_extraction.text import TfidfTransformer\n",
    "from sklearn.feature_extraction.text import CountVectorizer\n",
    "from sklearn.feature_extraction import text\n",
    "from nltk.corpus import stopwords\n",
    "from string import punctuation\n",
    "from sklearn.cluster import KMeans, MiniBatchKMeans\n",
    "from sklearn.metrics import v_measure_score\n",
    "from sklearn.metrics import homogeneity_score\n",
    "from sklearn.metrics import completeness_score\n",
    "from sklearn.metrics import adjusted_rand_score\n",
    "from sklearn.metrics import adjusted_mutual_info_score\n",
    "from sklearn.metrics import confusion_matrix\n",
    "import numpy as np\n",
    "from sklearn.decomposition import TruncatedSVD,NMF\n",
    "import matplotlib.pyplot as plt\n",
    "\n",
    "# get all the stopwords\n",
    "stop_words_en = stopwords.words('english')\n",
    "stop_words_skt = text.ENGLISH_STOP_WORDS\n",
    "combined_stopwords = set.union(set(stop_words_en),set(punctuation),set(stop_words_skt))\n",
    "\n",
    "\n",
    "categories8 = [\"comp.graphics\",\"comp.os.ms-windows.misc\",\"comp.sys.ibm.pc.hardware\",\"comp.sys.mac.hardware\",   \n",
    "               \"rec.autos\", \"rec.motorcycles\",\"rec.sport.baseball\",\"rec.sport.hockey\"]\n",
    "\n",
    "train = fetch_20newsgroups(subset = 'train', categories = categories8, shuffle=True, random_state = 42)\n",
    "\n",
    "vectorizer = CountVectorizer(stop_words = combined_stopwords,min_df = 3)\n",
    "\n",
    "data_vec = vectorizer.fit_transform(train.data)\n",
    "\n",
    "tfTrans = TfidfTransformer()\n",
    "\n",
    "tf_vec = tfTrans.fit_transform(data_vec)\n",
    "\n",
    "print \"The shape of the required TF-IDF matrix = \"\n",
    "print tf_vec.shape\n",
    "\n",
    "\n"
   ]
  },
  {
   "cell_type": "markdown",
   "metadata": {},
   "source": [
    "## problem 1 Report \n",
    "The TF-IDF matrix dimension is (4732, 20272)"
   ]
  },
  {
   "cell_type": "markdown",
   "metadata": {},
   "source": [
    "## Problem 2"
   ]
  },
  {
   "cell_type": "code",
   "execution_count": 2,
   "metadata": {},
   "outputs": [
    {
     "name": "stdout",
     "output_type": "stream",
     "text": [
      "The contingency table:\n",
      "[[   2 2341]\n",
      " [1042 1347]]\n",
      "V-measure-score:\n",
      "0.2923866553177418\n",
      "homogeneity-score:\n",
      "0.2574990731137086\n",
      "completeness_score:\n",
      "0.33820937287412767\n",
      "adjusted_rand_score:\n",
      "0.18461931654671035\n",
      "adjusted_mutual_info_score:\n",
      "0.2573858033929015\n"
     ]
    }
   ],
   "source": [
    "kn = 2\n",
    "km = KMeans(n_clusters=kn, random_state=0).fit(tf_vec)\n",
    "\n",
    "train_label = (train.target>3).astype(int)\n",
    "\n",
    "A = confusion_matrix(y_true = train_label,y_pred = km.labels_)\n",
    "\n",
    "print \"The contingency table:\" \n",
    "print A\n",
    "print \"V-measure-score:\"\n",
    "print v_measure_score(train_label,km.labels_)\n",
    "print \"homogeneity-score:\"\n",
    "print homogeneity_score(train_label,km.labels_)\n",
    "print \"completeness_score:\"\n",
    "print completeness_score(train_label,km.labels_)\n",
    "print \"adjusted_rand_score:\"\n",
    "print adjusted_rand_score(train_label,km.labels_)\n",
    "print \"adjusted_mutual_info_score:\"\n",
    "print adjusted_mutual_info_score(train_label,km.labels_)"
   ]
  },
  {
   "cell_type": "markdown",
   "metadata": {},
   "source": [
    "## Problem 2 Report\n",
    "Contingency Table: \n",
    "\n",
    "|True label\\predicted class| Kmean class 1 |kmean class 2 |\n",
    "|--------------------------|---------------|--------------|\n",
    "| label 1 : comp           | 2             |2341          |\n",
    "| label 2 : rec            |1042           |1347          |\n",
    "\n",
    "scores:\n",
    "\n",
    "|V-measure-score| homogeneity-score|completeness_score|adjusted_rand_score|adjusted_mutual_info_score|\n",
    "|-|-|-|-|-|-|-|-|\n",
    "|0.2923866553177418|0.2574990731137086|0.33820937287412767|0.18461931654671035|0.2573858033929015|\n",
    "\n",
    "\n",
    "From the two tables above, we can see that the performance of this kmean is bad. for label 2, the data is all most splitted into two classes. This means it doesn't distinguish well this class from the other. If the kmean method is perfect, we would see a contingency table as a diagonal matrix, or can be rearranged into a diagonal matrix through exchanging columns<br>\n",
    "\n",
    "All the score are pretty low also further supports that the performance is poor. <br>\n",
    "\n",
    "\n",
    "\n",
    "\n",
    "\n",
    "\n"
   ]
  },
  {
   "cell_type": "markdown",
   "metadata": {},
   "source": [
    "## Problem 3"
   ]
  },
  {
   "cell_type": "code",
   "execution_count": 3,
   "metadata": {},
   "outputs": [
    {
     "data": {
      "text/plain": [
       "Text(0.5,0,u'gamma')"
      ]
     },
     "execution_count": 3,
     "metadata": {},
     "output_type": "execute_result"
    },
    {
     "data": {
      "image/png": "[encoded data removed]",
      "text/plain": [
       "<matplotlib.figure.Figure at 0x109748090>"
      ]
     },
     "metadata": {},
     "output_type": "display_data"
    }
   ],
   "source": [
    "# (a) retained variance\n",
    "tf_square_arr = np.dot(tf_vec.toarray(),tf_vec.toarray().T)\n",
    "l = tf_square_arr.shape[0]\n",
    "eigen_values = tf_square_arr[range(l),range(l)]\n",
    "retained_variance = []\n",
    "n = 1000\n",
    "for i in range(1,n+1):\n",
    "    retained_variance.append(np.sum(eigen_values[:i]))\n",
    "plt.plot(range(1,n+1),retained_variance/np.sum(eigen_values))\n",
    "plt.title('retained variance percentage vs. gamma')\n",
    "plt.ylabel('retained variance percentage')\n",
    "plt.xlabel('gamma')"
   ]
  },
  {
   "cell_type": "code",
   "execution_count": 4,
   "metadata": {},
   "outputs": [
    {
     "name": "stdout",
     "output_type": "stream",
     "text": [
      "runing LSI with r = 1\n",
      "training k means clustering with LSI\n",
      "recording scores\n",
      "runing LSI with r = 2\n",
      "training k means clustering with LSI\n",
      "recording scores\n",
      "runing LSI with r = 3\n",
      "training k means clustering with LSI\n",
      "recording scores\n",
      "runing LSI with r = 5\n",
      "training k means clustering with LSI\n",
      "recording scores\n",
      "runing LSI with r = 10\n",
      "training k means clustering with LSI\n",
      "recording scores\n",
      "runing LSI with r = 20\n",
      "training k means clustering with LSI\n",
      "recording scores\n",
      "runing LSI with r = 50\n",
      "training k means clustering with LSI\n",
      "recording scores\n",
      "runing LSI with r = 100\n",
      "training k means clustering with LSI\n",
      "recording scores\n",
      "runing LSI with r = 300\n",
      "training k means clustering with LSI\n",
      "recording scores\n"
     ]
    },
    {
     "data": {
      "image/png": "[encoded data removed]",
      "text/plain": [
       "<matplotlib.figure.Figure at 0x109748510>"
      ]
     },
     "metadata": {},
     "output_type": "display_data"
    }
   ],
   "source": [
    "rs = [1,2,3,5,10,20,50,100,300]\n",
    "score_names = [\"V-measure-score\",\"homogeneity-score\",\"completeness_score\",\"adjusted_rand_score\",\n",
    "               \"adjusted_mutual_info_score\"]\n",
    "\n",
    "svd_scores = np.zeros([len(score_names),len(rs)])\n",
    "nmf_scores = np.zeros([len(score_names),len(rs)])\n",
    "# LSI\n",
    "for i in range(len(rs)):\n",
    "    r = rs[i]\n",
    "    print 'runing LSI with r = %d' % r\n",
    "    tsvd = TruncatedSVD(n_components=r)\n",
    "    reduced_tf = tsvd.fit_transform(tf_vec.toarray())\n",
    "    print 'training k means clustering with LSI'\n",
    "    km = KMeans(n_clusters=kn, random_state=0).fit(reduced_tf)\n",
    "    print 'recording scores'\n",
    "    svd_scores[0,i] = v_measure_score(train_label,km.labels_)\n",
    "    svd_scores[1,i] = homogeneity_score(train_label,km.labels_)\n",
    "    svd_scores[2,i] = completeness_score(train_label,km.labels_)\n",
    "    svd_scores[3,i] = adjusted_rand_score(train_label,km.labels_)\n",
    "    svd_scores[4,i] = adjusted_mutual_info_score(train_label,km.labels_)\n",
    "    \n",
    "for i in range(len(score_names)):\n",
    "    plt.figure()\n",
    "    plt.plot(rs,svd_scores[i,:])\n",
    "    plt.title(score_names[i] + 'vs. r')\n",
    "    plt.ylabel(score_names[i])\n",
    "    plt.xlabel('r')\n",
    "    \n",
    "    "
   ]
  },
  {
   "cell_type": "code",
   "execution_count": 5,
   "metadata": {},
   "outputs": [
    {
     "ename": "IndentationError",
     "evalue": "expected an indented block (<ipython-input-5-ad77bf8115fd>, line 3)",
     "output_type": "error",
     "traceback": [
      "\u001b[0;36m  File \u001b[0;32m\"<ipython-input-5-ad77bf8115fd>\"\u001b[0;36m, line \u001b[0;32m3\u001b[0m\n\u001b[0;31m    r = rs[i]\u001b[0m\n\u001b[0m    ^\u001b[0m\n\u001b[0;31mIndentationError\u001b[0m\u001b[0;31m:\u001b[0m expected an indented block\n"
     ]
    }
   ],
   "source": [
    "    \n",
    "for i in range(len(rs)):\n",
    "    r = rs[i]\n",
    "    # NMF\n",
    "    print 'runing NMF with r = %d' % r\n",
    "    nmf = NMF(n_components=r, init='random', random_state=0)\n",
    "    print 'training k means clustering with NMF'\n",
    "    nmf_tf = nmf.fit_transform(tf_vec.toarray())\n",
    "    nmf_scores[0,i] = v_measure_score(train_label,km.labels_)\n",
    "    nmf_scores[1,i] = homogeneity_score(train_label,km.labels_)\n",
    "    nmf_scores[2,i] = completeness_score(train_label,km.labels_)\n",
    "    nmf_scores[3,i] = adjusted_rand_score(train_label,km.labels_)\n",
    "    nmf_scores[4,i] = adjusted_mutual_info_score(train_label,km.labels_)\n",
    "    \n",
    " "
   ]
  },
  {
   "cell_type": "markdown",
   "metadata": {},
   "source": [
    "## Problem 3 Report"
   ]
  }
 ],
 "metadata": {
  "kernelspec": {
   "display_name": "Python 2",
   "language": "python",
   "name": "python2"
  },
  "language_info": {
   "codemirror_mode": {
    "name": "ipython",
    "version": 2
   },
   "file_extension": ".py",
   "mimetype": "text/x-python",
   "name": "python",
   "nbconvert_exporter": "python",
   "pygments_lexer": "ipython2",
   "version": "2.7.10"
  }
 },
 "nbformat": 4,
 "nbformat_minor": 2
}
